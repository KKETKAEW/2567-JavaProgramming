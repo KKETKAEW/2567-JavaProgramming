{
  "nbformat": 4,
  "nbformat_minor": 0,
  "metadata": {
    "colab": {
      "provenance": [],
      "authorship_tag": "ABX9TyOv9A/KXYi6XT/+mwzcAvbG",
      "include_colab_link": true
    },
    "kernelspec": {
      "name": "python3",
      "display_name": "Python 3"
    },
    "language_info": {
      "name": "python"
    }
  },
  "cells": [
    {
      "cell_type": "markdown",
      "metadata": {
        "id": "view-in-github",
        "colab_type": "text"
      },
      "source": [
        "<a href=\"https://colab.research.google.com/github/KKETKAEW/2567-JavaProgramming/blob/main/Untitled8.ipynb\" target=\"_parent\"><img src=\"https://colab.research.google.com/assets/colab-badge.svg\" alt=\"Open In Colab\"/></a>"
      ]
    },
    {
      "cell_type": "code",
      "execution_count": 31,
      "metadata": {
        "id": "SfjO0ehnVAAy"
      },
      "outputs": [],
      "source": [
        "class Stack:\n",
        "  def __init__(self):\n",
        "    self.items = []\n",
        "\n",
        "  def isEmpty(self):\n",
        "    if len(self.items) == 0:\n",
        "      return True\n",
        "    else:\n",
        "      return False\n",
        "\n",
        "  def push(self,value):\n",
        "    self.items.append(value)\n",
        "\n",
        "  def pop(self):\n",
        "    if self.isEmpty():\n",
        "      return None\n",
        "    else:\n",
        "      return self.items.pop()\n",
        "\n",
        "  def peek(self):\n",
        "    if self.isEmpty():\n",
        "      return None\n",
        "    else:\n",
        "      return self.items[len(self.items)-1]\n"
      ]
    },
    {
      "cell_type": "code",
      "source": [
        "S=Stack()\n",
        "S.push(5)\n",
        "S.push(8)\n",
        "S.push(2)\n",
        "print(S.peek())#2\n",
        "print(S.pop())#2\n",
        "print(S.pop())#8\n",
        "print(S.pop())#5"
      ],
      "metadata": {
        "colab": {
          "base_uri": "https://localhost:8080/"
        },
        "id": "eLAdfSv0ZSpC",
        "outputId": "089b7f35-cb8f-417e-b1c1-a769f3cf80af"
      },
      "execution_count": 32,
      "outputs": [
        {
          "output_type": "stream",
          "name": "stdout",
          "text": [
            "2\n",
            "2\n",
            "8\n",
            "5\n"
          ]
        }
      ]
    },
    {
      "cell_type": "code",
      "source": [
        "def calPostfix(exp):\n",
        "  S = Stack() # Reset the stack for each calculation\n",
        "  exp=exp.split()\n",
        "  for item in exp:\n",
        "    if item.isdigit() == True:\n",
        "      S.push(int(item))\n",
        "    else:\n",
        "      right = S.pop()#ตัวล่าสุด\n",
        "      left = S.pop()#ตัวรองลงมา\n",
        "      # Ensure left and right are strings for eval\n",
        "      result = eval(str(left)+item+str(right))\n",
        "      S.push(str(result))\n",
        "  # The final result should be the only item left on the stack\n",
        "  return eval(S.pop())"
      ],
      "metadata": {
        "id": "3smVhviybu8y"
      },
      "execution_count": 33,
      "outputs": []
    },
    {
      "cell_type": "code",
      "source": [
        "calPostfix(\"2 3 1 * + 9 -\")"
      ],
      "metadata": {
        "colab": {
          "base_uri": "https://localhost:8080/"
        },
        "id": "zaI4bm9ne2QA",
        "outputId": "84aab255-850a-4fc8-f5c0-8f373df8833e"
      },
      "execution_count": 34,
      "outputs": [
        {
          "output_type": "execute_result",
          "data": {
            "text/plain": [
              "-4"
            ]
          },
          "metadata": {},
          "execution_count": 34
        }
      ]
    },
    {
      "cell_type": "code",
      "source": [
        "class Queue:\n",
        "  def __init__(self):\n",
        "    self.items = []\n",
        "\n",
        "  def isEmpty(self):\n",
        "    if len(self.items) == 0:\n",
        "      return True\n",
        "    else:\n",
        "      return False\n",
        "\n",
        "  def push(self,value):\n",
        "    self.items.append(value)\n",
        "\n",
        "  def dequeue(self):\n",
        "    if self.isEmpty():\n",
        "      return None\n",
        "    else:\n",
        "      return self.items.pop(0)\n",
        "\n",
        "  def peek(self):\n",
        "    if self.isEmpty():\n",
        "      return None\n",
        "    else:\n",
        "      return self.items[0]"
      ],
      "metadata": {
        "id": "gYikGnLxhDfU"
      },
      "execution_count": 35,
      "outputs": []
    },
    {
      "cell_type": "code",
      "source": [
        "Q=Queue()\n",
        "Q.enqueue(5)\n",
        "Q.enqueue(8)\n",
        "Q.enqueue(2)\n",
        "print(Q.peek())#5\n",
        "print(Q.dequeue())#5\n",
        "print(Q.dequeue())#8\n",
        "print(Q.dequeue())#2"
      ],
      "metadata": {
        "colab": {
          "base_uri": "https://localhost:8080/",
          "height": 211
        },
        "id": "oBtqi2qoW2yy",
        "outputId": "46e8b93f-9263-4b47-8742-0b2d7ab42217"
      },
      "execution_count": 36,
      "outputs": [
        {
          "output_type": "error",
          "ename": "TypeError",
          "evalue": "Queue.enqueue() takes 1 positional argument but 2 were given",
          "traceback": [
            "\u001b[0;31m---------------------------------------------------------------------------\u001b[0m",
            "\u001b[0;31mTypeError\u001b[0m                                 Traceback (most recent call last)",
            "\u001b[0;32m/tmp/ipython-input-3886401691.py\u001b[0m in \u001b[0;36m<cell line: 0>\u001b[0;34m()\u001b[0m\n\u001b[1;32m      1\u001b[0m \u001b[0mQ\u001b[0m\u001b[0;34m=\u001b[0m\u001b[0mQueue\u001b[0m\u001b[0;34m(\u001b[0m\u001b[0;34m)\u001b[0m\u001b[0;34m\u001b[0m\u001b[0;34m\u001b[0m\u001b[0m\n\u001b[0;32m----> 2\u001b[0;31m \u001b[0mQ\u001b[0m\u001b[0;34m.\u001b[0m\u001b[0menqueue\u001b[0m\u001b[0;34m(\u001b[0m\u001b[0;36m5\u001b[0m\u001b[0;34m)\u001b[0m\u001b[0;34m\u001b[0m\u001b[0;34m\u001b[0m\u001b[0m\n\u001b[0m\u001b[1;32m      3\u001b[0m \u001b[0mQ\u001b[0m\u001b[0;34m.\u001b[0m\u001b[0menqueue\u001b[0m\u001b[0;34m(\u001b[0m\u001b[0;36m8\u001b[0m\u001b[0;34m)\u001b[0m\u001b[0;34m\u001b[0m\u001b[0;34m\u001b[0m\u001b[0m\n\u001b[1;32m      4\u001b[0m \u001b[0mQ\u001b[0m\u001b[0;34m.\u001b[0m\u001b[0menqueue\u001b[0m\u001b[0;34m(\u001b[0m\u001b[0;36m2\u001b[0m\u001b[0;34m)\u001b[0m\u001b[0;34m\u001b[0m\u001b[0;34m\u001b[0m\u001b[0m\n\u001b[1;32m      5\u001b[0m \u001b[0mprint\u001b[0m\u001b[0;34m(\u001b[0m\u001b[0mQ\u001b[0m\u001b[0;34m.\u001b[0m\u001b[0mpeek\u001b[0m\u001b[0;34m(\u001b[0m\u001b[0;34m)\u001b[0m\u001b[0;34m)\u001b[0m\u001b[0;31m#5\u001b[0m\u001b[0;34m\u001b[0m\u001b[0;34m\u001b[0m\u001b[0m\n",
            "\u001b[0;31mTypeError\u001b[0m: Queue.enqueue() takes 1 positional argument but 2 were given"
          ]
        }
      ]
    }
  ]
}