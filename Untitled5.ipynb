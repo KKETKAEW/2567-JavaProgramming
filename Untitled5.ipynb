{
  "nbformat": 4,
  "nbformat_minor": 0,
  "metadata": {
    "colab": {
      "provenance": [],
      "authorship_tag": "ABX9TyOh1WjDvH6DK7elTM/xPjur",
      "include_colab_link": true
    },
    "kernelspec": {
      "name": "python3",
      "display_name": "Python 3"
    },
    "language_info": {
      "name": "python"
    }
  },
  "cells": [
    {
      "cell_type": "markdown",
      "metadata": {
        "id": "view-in-github",
        "colab_type": "text"
      },
      "source": [
        "<a href=\"https://colab.research.google.com/github/KKETKAEW/2567-JavaProgramming/blob/main/Untitled5.ipynb\" target=\"_parent\"><img src=\"https://colab.research.google.com/assets/colab-badge.svg\" alt=\"Open In Colab\"/></a>"
      ]
    },
    {
      "cell_type": "code",
      "execution_count": 100,
      "metadata": {
        "id": "ybIEz-Lu5QI-"
      },
      "outputs": [],
      "source": [
        "class book():\n",
        "  pass"
      ]
    },
    {
      "cell_type": "code",
      "source": [
        "def init(b,name,num,price):\n",
        "  b.name=name\n",
        "  b.ISBN=num\n",
        "  b.price=price"
      ],
      "metadata": {
        "id": "CBQLbyiZ-Sgk"
      },
      "execution_count": 101,
      "outputs": []
    },
    {
      "cell_type": "code",
      "source": [
        "b1=book()\n",
        "init(b1,\"python\",1234567890,300)"
      ],
      "metadata": {
        "id": "RwxbWqVS_JDh"
      },
      "execution_count": 102,
      "outputs": []
    },
    {
      "cell_type": "code",
      "source": [
        "b1.price"
      ],
      "metadata": {
        "colab": {
          "base_uri": "https://localhost:8080/"
        },
        "id": "ws-jAhyP_Xhu",
        "outputId": "1118012d-1fac-463d-93e6-6ac12196fbe1"
      },
      "execution_count": 103,
      "outputs": [
        {
          "output_type": "execute_result",
          "data": {
            "text/plain": [
              "300"
            ]
          },
          "metadata": {},
          "execution_count": 103
        }
      ]
    },
    {
      "cell_type": "code",
      "source": [
        "b2=book()\n",
        "init(b2,\"deep learning\",9876543210,500)"
      ],
      "metadata": {
        "id": "ceDQaooB_ihP"
      },
      "execution_count": 104,
      "outputs": []
    },
    {
      "cell_type": "code",
      "source": [
        "b3=book()\n",
        "init(b3,\"โครงสร้างข้อมูล\",456789123,250)"
      ],
      "metadata": {
        "id": "HU-9-h5vATPu"
      },
      "execution_count": 105,
      "outputs": []
    },
    {
      "cell_type": "code",
      "source": [
        "def total_price(books):\n",
        "    sum=0\n",
        "    for b in books:\n",
        "        sum=sum+b.price\n",
        "    return sum"
      ],
      "metadata": {
        "id": "d0L7MzqZAhKe"
      },
      "execution_count": 106,
      "outputs": []
    },
    {
      "cell_type": "code",
      "source": [
        "class book():\n",
        "    def _init_(self,name,num,price):\n",
        "      self.name=name\n",
        "      self.ISBN=num\n",
        "      self.price=price"
      ],
      "metadata": {
        "id": "mCZCgM-KCnEO"
      },
      "execution_count": 107,
      "outputs": []
    },
    {
      "cell_type": "code",
      "source": [
        "class BankAccount():\n",
        "  def __init__(self,acc_no,acc_name,balance):\n",
        "    self.accc_name=acc_name\n",
        "    self.balance=balance"
      ],
      "metadata": {
        "id": "k8BdQLfhEixO"
      },
      "execution_count": 108,
      "outputs": []
    },
    {
      "cell_type": "code",
      "source": [
        "acc1=BankAccount(1234567890,\"Somchai\",500)"
      ],
      "metadata": {
        "id": "JLHmVguWE74B"
      },
      "execution_count": 109,
      "outputs": []
    },
    {
      "cell_type": "code",
      "source": [
        "class Time():\n",
        "  def __init__(self,time_string):\n",
        "    hour,minute,second=time_string.split(\":\")\n",
        "    self.hour=hour\n",
        "    self.minute=minute\n",
        "    self.second=second\n",
        "\n",
        "    def get_hour(self):\n",
        "      return self.hour\n",
        "    def get_minute(self):\n",
        "      return self.minute\n",
        "    def get_second(self):\n",
        "      return self.second"
      ],
      "metadata": {
        "id": "qtl4Xd-GHIig"
      },
      "execution_count": 110,
      "outputs": []
    },
    {
      "cell_type": "code",
      "source": [
        "time1 =Time(\"10:30:00\")\n",
        "print(time1.hour,time1.minute,time1.second)"
      ],
      "metadata": {
        "colab": {
          "base_uri": "https://localhost:8080/"
        },
        "id": "z_hQY192HbD_",
        "outputId": "61a5d4e5-26c7-4a0d-d196-babb39efa508"
      },
      "execution_count": 111,
      "outputs": [
        {
          "output_type": "stream",
          "name": "stdout",
          "text": [
            "10 30 00\n"
          ]
        }
      ]
    },
    {
      "cell_type": "code",
      "source": [
        "time1.hour"
      ],
      "metadata": {
        "colab": {
          "base_uri": "https://localhost:8080/",
          "height": 35
        },
        "id": "i0m6ysvtJe3R",
        "outputId": "c037d5ca-7769-4708-8458-384cc641d993"
      },
      "execution_count": 112,
      "outputs": [
        {
          "output_type": "execute_result",
          "data": {
            "text/plain": [
              "'10'"
            ],
            "application/vnd.google.colaboratory.intrinsic+json": {
              "type": "string"
            }
          },
          "metadata": {},
          "execution_count": 112
        }
      ]
    },
    {
      "cell_type": "code",
      "source": [
        "class Book:\n",
        "  def __init__(self,name,num,price):\n",
        "    self.title = name\n",
        "    self.isbn = num\n",
        "    self.price = price\n",
        "  def discount(self,percent):\n",
        "    self.price = self.price*(100 - percent)/100"
      ],
      "metadata": {
        "id": "i-ahBKRNLtLc"
      },
      "execution_count": 113,
      "outputs": []
    },
    {
      "cell_type": "code",
      "source": [
        "b1 = Book(\"Python 101\",\"14919012X\",300)"
      ],
      "metadata": {
        "id": "XkQkoWiwMKdu"
      },
      "execution_count": 114,
      "outputs": []
    },
    {
      "cell_type": "code",
      "source": [
        "b1.discount(20)\n",
        "print(b1.price)"
      ],
      "metadata": {
        "colab": {
          "base_uri": "https://localhost:8080/"
        },
        "id": "6DLpC6zVMVce",
        "outputId": "e443ce16-0333-411b-b5cd-4700f1bd9038"
      },
      "execution_count": 115,
      "outputs": [
        {
          "output_type": "stream",
          "name": "stdout",
          "text": [
            "240.0\n"
          ]
        }
      ]
    },
    {
      "cell_type": "code",
      "source": [
        "class BankAccount():\n",
        "  def __init__(self,num,name,balance):\n",
        "    self.acc_name = name\n",
        "    self.acc_num = num\n",
        "    self.balance = balance\n",
        "  def deposit(self,amount):\n",
        "    self.balance += amount\n",
        "  def widthdraw(self,amount):\n",
        "    self.balance -= amount\n",
        "  def transfer(self,other,amount):\n",
        "    self.balance -= amount\n",
        "    other.balance += amount"
      ],
      "metadata": {
        "id": "ZfUVUkWiMadf"
      },
      "execution_count": 120,
      "outputs": []
    },
    {
      "cell_type": "code",
      "source": [
        "a1 = BankAccount(1234567890,\"นายใจดี มีสุข\", 500)\n",
        "a2 = BankAccount(9876543210,\"นางสาวปราณี สุขใจ\", 500)\n",
        "\n",
        "a1.deposit(1000)\n",
        "print(a1.acc_name,a1.balance)\n",
        "a2.widthdraw(300)\n",
        "print(a2.acc_name,a2.balance)\n",
        "print()\n",
        "a1.transfer(a2,800)\n",
        "print(a1.acc_name,a1.balance)\n",
        "print(a2.acc_name,a2.balance)"
      ],
      "metadata": {
        "colab": {
          "base_uri": "https://localhost:8080/"
        },
        "id": "DodIMB2xMrh8",
        "outputId": "a702946e-8204-4c20-d37f-cc8e41137e77"
      },
      "execution_count": 122,
      "outputs": [
        {
          "output_type": "stream",
          "name": "stdout",
          "text": [
            "นายใจดี มีสุข 1500\n",
            "นางสาวปราณี สุขใจ 200\n",
            "\n",
            "นายใจดี มีสุข 700\n",
            "นางสาวปราณี สุขใจ 1000\n"
          ]
        }
      ]
    },
    {
      "cell_type": "code",
      "source": [],
      "metadata": {
        "id": "9HoH-W88PfE9"
      },
      "execution_count": null,
      "outputs": []
    }
  ]
}