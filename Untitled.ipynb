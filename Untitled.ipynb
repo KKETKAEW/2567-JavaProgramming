{
  "nbformat": 4,
  "nbformat_minor": 0,
  "metadata": {
    "colab": {
      "provenance": [],
      "authorship_tag": "ABX9TyNX1QN5Lx4ZxkoVWK+z9D8E",
      "include_colab_link": true
    },
    "kernelspec": {
      "name": "python3",
      "display_name": "Python 3"
    },
    "language_info": {
      "name": "python"
    }
  },
  "cells": [
    {
      "cell_type": "markdown",
      "metadata": {
        "id": "view-in-github",
        "colab_type": "text"
      },
      "source": [
        "<a href=\"https://colab.research.google.com/github/KKETKAEW/2567-JavaProgramming/blob/main/Untitled.ipynb\" target=\"_parent\"><img src=\"https://colab.research.google.com/assets/colab-badge.svg\" alt=\"Open In Colab\"/></a>"
      ]
    },
    {
      "cell_type": "code",
      "execution_count": 3,
      "metadata": {
        "colab": {
          "base_uri": "https://localhost:8080/"
        },
        "id": "dzd_1GBH0NKi",
        "outputId": "8eae6f16-424c-4c43-ed54-588ce04e07ca"
      },
      "outputs": [
        {
          "output_type": "stream",
          "name": "stdout",
          "text": [
            "The area of rectangle 1 is 50\n",
            "The area of rectangle 2 is 21\n",
            "The area of rectangle 3 is 48\n"
          ]
        }
      ],
      "source": [
        "length1 = 5\n",
        "width1 = 10\n",
        "area1 = length1 * width1\n",
        "print(f'The area of rectangle 1 is {area1}')\n",
        "\n",
        "length2 = 7\n",
        "width2 = 3\n",
        "area2 = length2 * width2\n",
        "print(f'The area of rectangle 2 is {area2}')\n",
        "\n",
        "length3 = 6\n",
        "width3 = 8\n",
        "area3 = length3 * width3\n",
        "print(f'The area of rectangle 3 is {area3}')"
      ]
    },
    {
      "cell_type": "code",
      "source": [
        "def greet():\n",
        "  print(\"Hello World\")\n",
        "\n",
        "greet()\n",
        "print('Outside the function')"
      ],
      "metadata": {
        "colab": {
          "base_uri": "https://localhost:8080/"
        },
        "id": "r8UvUmZ73ASG",
        "outputId": "dba998ed-7423-48bd-f182-77ac608d90ef"
      },
      "execution_count": 7,
      "outputs": [
        {
          "output_type": "stream",
          "name": "stdout",
          "text": [
            "Hello World\n",
            "Outside the function\n"
          ]
        }
      ]
    },
    {
      "cell_type": "code",
      "source": [
        "def greet2(name,age):\n",
        "  print(\"Hello {}, you are {} years old\" .format(name,age))\n",
        "\n",
        "greet2('Piploy',19)"
      ],
      "metadata": {
        "colab": {
          "base_uri": "https://localhost:8080/"
        },
        "id": "f7re6Nxu4mDK",
        "outputId": "4f3e9c34-4f34-4753-adf6-1bdd5dbc9c4a"
      },
      "execution_count": 12,
      "outputs": [
        {
          "output_type": "stream",
          "name": "stdout",
          "text": [
            "Hello Piploy, you are 19 years old\n"
          ]
        }
      ]
    },
    {
      "cell_type": "code",
      "source": [
        "def find_square(num):\n",
        "  result = num * num\n",
        "  return result\n",
        "\n",
        "a = find_square(2)"
      ],
      "metadata": {
        "id": "V7JJthF47fxI"
      },
      "execution_count": 19,
      "outputs": []
    },
    {
      "cell_type": "code",
      "source": [
        "a"
      ],
      "metadata": {
        "colab": {
          "base_uri": "https://localhost:8080/"
        },
        "id": "j2B9RLr678Z8",
        "outputId": "ec8249aa-81f2-4092-9a0d-fe327aa5eb9e"
      },
      "execution_count": 20,
      "outputs": [
        {
          "output_type": "execute_result",
          "data": {
            "text/plain": [
              "4"
            ]
          },
          "metadata": {},
          "execution_count": 20
        }
      ]
    },
    {
      "cell_type": "code",
      "source": [
        "def find_square(num):\n",
        "  result = num **2\n",
        "  return result\n",
        "\n",
        "a = find_square(2)"
      ],
      "metadata": {
        "id": "VGiIVzC179aa"
      },
      "execution_count": 21,
      "outputs": []
    },
    {
      "cell_type": "code",
      "source": [
        "#a=5\n",
        "#print(a)\n",
        "#a=10\n",
        "#print(a)\n",
        "\n",
        "a=[1,2,3,4,5]\n",
        "print(a)\n",
        "a[2]=10\n",
        "print(a)"
      ],
      "metadata": {
        "colab": {
          "base_uri": "https://localhost:8080/"
        },
        "id": "Gz48Iub98k-5",
        "outputId": "63118c4b-dea0-475b-876a-2aa2ff46fe29"
      },
      "execution_count": 23,
      "outputs": [
        {
          "output_type": "stream",
          "name": "stdout",
          "text": [
            "[1, 2, 3, 4, 5]\n",
            "[1, 2, 10, 4, 5]\n"
          ]
        }
      ]
    },
    {
      "cell_type": "code",
      "source": [
        "a=[1,2,3,4,5]\n",
        "b=a\n",
        "b[0]=7\n",
        "print(a)\n",
        "print(b)"
      ],
      "metadata": {
        "colab": {
          "base_uri": "https://localhost:8080/"
        },
        "id": "82-wAfeC9rfb",
        "outputId": "dae52921-bb7b-4ca9-8382-11514be4a36a"
      },
      "execution_count": 29,
      "outputs": [
        {
          "output_type": "stream",
          "name": "stdout",
          "text": [
            "[7, 2, 3, 4, 5]\n",
            "[7, 2, 3, 4, 5]\n"
          ]
        }
      ]
    },
    {
      "cell_type": "code",
      "source": [
        "a=[1,2,3,4,5]\n",
        "b=a[:]\n",
        "b[0]=7\n",
        "print(a)\n",
        "print(b)"
      ],
      "metadata": {
        "colab": {
          "base_uri": "https://localhost:8080/"
        },
        "id": "CtLDQEMt-eh5",
        "outputId": "c922cf5d-03bf-4c6e-85cc-033349f44f52"
      },
      "execution_count": 30,
      "outputs": [
        {
          "output_type": "stream",
          "name": "stdout",
          "text": [
            "[1, 2, 3, 4, 5]\n",
            "[7, 2, 3, 4, 5]\n"
          ]
        }
      ]
    },
    {
      "cell_type": "code",
      "source": [
        "a=[1,2,3,4,5]\n",
        "b=a.copy()\n",
        "b[0]=7\n",
        "print(a)\n",
        "print(b)"
      ],
      "metadata": {
        "colab": {
          "base_uri": "https://localhost:8080/"
        },
        "id": "TnMTbSkq-kMn",
        "outputId": "81ff1eac-27f6-4238-b0df-437abd3727e8"
      },
      "execution_count": 31,
      "outputs": [
        {
          "output_type": "stream",
          "name": "stdout",
          "text": [
            "[1, 2, 3, 4, 5]\n",
            "[7, 2, 3, 4, 5]\n"
          ]
        }
      ]
    },
    {
      "cell_type": "code",
      "source": [
        "message = input(\"Input text : \")\n",
        "def is_palindrome(message):\n",
        "   message=message.lower()\n",
        "   return message == message[::-1]\n",
        "print(is_palindrome(message))"
      ],
      "metadata": {
        "colab": {
          "base_uri": "https://localhost:8080/"
        },
        "id": "s9S95Y6f-oi5",
        "outputId": "b00b1100-ecb0-4472-b7c8-efb86d5c9cf6"
      },
      "execution_count": 36,
      "outputs": [
        {
          "output_type": "stream",
          "name": "stdout",
          "text": [
            "Input text : Radar\n",
            "True\n"
          ]
        }
      ]
    },
    {
      "cell_type": "code",
      "source": [
        "def is_palindrome(s):\n",
        "  s=s.lower()\n",
        "  reverse_s = s[::-1]\n",
        "  if reverse_s == s:\n",
        "    return True\n",
        "  else:\n",
        "    return False\n",
        "\n",
        "st =  input(\"Input text : \")\n",
        "is_palindrome(st)"
      ],
      "metadata": {
        "colab": {
          "base_uri": "https://localhost:8080/"
        },
        "id": "EmhNH795Bhxm",
        "outputId": "7033aacf-b610-4eb5-97e4-04996cf4e5cf"
      },
      "execution_count": 37,
      "outputs": [
        {
          "name": "stdout",
          "output_type": "stream",
          "text": [
            "Input text : Radar\n"
          ]
        },
        {
          "output_type": "execute_result",
          "data": {
            "text/plain": [
              "True"
            ]
          },
          "metadata": {},
          "execution_count": 37
        }
      ]
    },
    {
      "cell_type": "code",
      "source": [
        "n = input(\"Input N : \")\n",
        "def fibonacci(n):\n",
        "  a,b = 0,1\n",
        "  for i in range(n):\n",
        "    print(a)\n",
        "    a,b = b,a+b\n",
        "\n",
        "fibonacci(int(n))"
      ],
      "metadata": {
        "colab": {
          "base_uri": "https://localhost:8080/"
        },
        "id": "1I6YC-1-A-fs",
        "outputId": "71a91513-4a8e-440f-a243-d641ede40649"
      },
      "execution_count": 42,
      "outputs": [
        {
          "output_type": "stream",
          "name": "stdout",
          "text": [
            "Input N : 10\n",
            "0\n",
            "1\n",
            "1\n",
            "2\n",
            "3\n",
            "5\n",
            "8\n",
            "13\n",
            "21\n",
            "34\n"
          ]
        }
      ]
    },
    {
      "cell_type": "code",
      "source": [
        "def fibonacci(n):\n",
        "  a = [0,1]\n",
        "  for i in range(2, n):\n",
        "    a.append(a[-1] + a[-2])\n",
        "  return a[:n+1]\n",
        "\n",
        "num = int(input(\"Input N :\"))\n",
        "print(fibonacci(num))\n",
        ""
      ],
      "metadata": {
        "colab": {
          "base_uri": "https://localhost:8080/"
        },
        "id": "DestvQnHFK_X",
        "outputId": "4dbb3aa5-f033-4f9c-901c-14d6ad2da0f6"
      },
      "execution_count": 44,
      "outputs": [
        {
          "output_type": "stream",
          "name": "stdout",
          "text": [
            "Input N :10\n",
            "[0, 1, 1, 2, 3, 5, 8, 13, 21, 34]\n"
          ]
        }
      ]
    },
    {
      "cell_type": "code",
      "source": [
        "def fibonacci(n):\n",
        "  fibo = [0,1]\n",
        "  for i in range(2, n):\n",
        "    fibo.append(fibo[i-2] + fibo[i-1])\n",
        "    return fibo\n",
        "\n",
        "num=int(input(\"Input N : \"))\n",
        "print(fibonacci(num))"
      ],
      "metadata": {
        "colab": {
          "base_uri": "https://localhost:8080/"
        },
        "id": "3PTFlF-KGjZL",
        "outputId": "df882f2f-8077-40c1-d56d-b3c3e0fe3b81"
      },
      "execution_count": 43,
      "outputs": [
        {
          "output_type": "stream",
          "name": "stdout",
          "text": [
            "Input N : 10\n",
            "[0, 1, 1]\n"
          ]
        }
      ]
    },
    {
      "cell_type": "code",
      "source": [
        "a=[1,2,3,4,5]\n",
        "b=(1,2,3,4,5)\n",
        "a[0]=7\n",
        "b[0]=7"
      ],
      "metadata": {
        "id": "CVHm1kQaHfdr"
      },
      "execution_count": null,
      "outputs": []
    },
    {
      "cell_type": "code",
      "source": [
        "country_capitals = {\"Germany\": \"Berlin\",\"England\": \"London\"}\n",
        "lst =[\"Berlin\",\"London\"]"
      ],
      "metadata": {
        "id": "MUelTrstImoZ"
      },
      "execution_count": 58,
      "outputs": []
    },
    {
      "cell_type": "code",
      "source": [
        "print(country_capitals[\"Germany\"])\n",
        "print(lst[0])"
      ],
      "metadata": {
        "colab": {
          "base_uri": "https://localhost:8080/"
        },
        "id": "VCF8UUguJGE8",
        "outputId": "001839d1-559a-42eb-dc80-5798f56b8ee2"
      },
      "execution_count": 59,
      "outputs": [
        {
          "output_type": "stream",
          "name": "stdout",
          "text": [
            "Berlin\n",
            "Berlin\n"
          ]
        }
      ]
    },
    {
      "cell_type": "code",
      "source": [
        "#del(country_capitals[\"Germany\"])\n",
        "#print(country_capitals)\n",
        "\n",
        "country_capitals.pop(\"Germany\")\n",
        "print(country_capitals)"
      ],
      "metadata": {
        "colab": {
          "base_uri": "https://localhost:8080/"
        },
        "id": "xN9oBSmNJRIp",
        "outputId": "8a3f1524-5186-4edd-f58a-b637546dc7ed"
      },
      "execution_count": 60,
      "outputs": [
        {
          "output_type": "stream",
          "name": "stdout",
          "text": [
            "{'England': 'London'}\n"
          ]
        }
      ]
    },
    {
      "cell_type": "code",
      "source": [
        "country_capitals.clear()\n",
        "print(country_capitals)"
      ],
      "metadata": {
        "colab": {
          "base_uri": "https://localhost:8080/"
        },
        "id": "e-sf51JxLAve",
        "outputId": "1c23d0e0-3e5c-4347-e2f5-6056206c1241"
      },
      "execution_count": 61,
      "outputs": [
        {
          "output_type": "stream",
          "name": "stdout",
          "text": [
            "{}\n"
          ]
        }
      ]
    },
    {
      "cell_type": "code",
      "source": [
        "for capitals in country_capitals:\n",
        "  print(country_capitals[capitals])\n",
        " # print(capitals)"
      ],
      "metadata": {
        "id": "CUiuCM2lLLtZ"
      },
      "execution_count": 62,
      "outputs": []
    },
    {
      "cell_type": "code",
      "source": [
        "print (\"GermanMy\" in country_capitals)"
      ],
      "metadata": {
        "colab": {
          "base_uri": "https://localhost:8080/"
        },
        "id": "eWZBpje0Lx9p",
        "outputId": "e122b4dc-187c-4f63-864a-b9c216654487"
      },
      "execution_count": 63,
      "outputs": [
        {
          "output_type": "stream",
          "name": "stdout",
          "text": [
            "False\n"
          ]
        }
      ]
    },
    {
      "cell_type": "code",
      "source": [
        "def invert_dict(d):\n",
        "  inverted = {}\n",
        "  for key, value in d.items():\n",
        "    inverted[value] = key\n",
        "  return inverted\n",
        "\n",
        "data ={'a':1, 'b':2, 'c':3}\n",
        "print(invert_dict(data))"
      ],
      "metadata": {
        "colab": {
          "base_uri": "https://localhost:8080/"
        },
        "id": "HmIK0-HrMPo8",
        "outputId": "36e1a05f-93e5-4557-ce3c-9cef47933150"
      },
      "execution_count": 67,
      "outputs": [
        {
          "output_type": "stream",
          "name": "stdout",
          "text": [
            "{1: 'a', 2: 'b', 3: 'c'}\n"
          ]
        }
      ]
    },
    {
      "cell_type": "code",
      "source": [
        "def invert_dic(dic):\n",
        "  result ={}\n",
        "  for key in dic:\n",
        "    value =dic[key]\n",
        "    result[value] = key\n",
        "  return result\n",
        "\n",
        "\n",
        "data ={'a':1, 'b':2, 'c':3}\n",
        "print(invert_dic(data))"
      ],
      "metadata": {
        "colab": {
          "base_uri": "https://localhost:8080/"
        },
        "id": "60FFuj-KPU0K",
        "outputId": "0fbe7bf5-937a-4a2e-846a-d72dfe898489"
      },
      "execution_count": 71,
      "outputs": [
        {
          "output_type": "stream",
          "name": "stdout",
          "text": [
            "{1: 'a', 2: 'b', 3: 'c'}\n"
          ]
        }
      ]
    },
    {
      "cell_type": "code",
      "source": [
        "def frequency(l):\n",
        "  result = {}\n",
        "  for item in l:\n",
        "    if item in result:\n",
        "      result[item]=result[item]+1\n",
        "    else:\n",
        "      result[item] = 1\n",
        "  return result\n",
        "\n",
        "numbers = [5,1,5,5,3,3]\n",
        "print(frequency(numbers))"
      ],
      "metadata": {
        "colab": {
          "base_uri": "https://localhost:8080/"
        },
        "id": "zq-z9fcVOOCJ",
        "outputId": "b7dd0620-6b14-4dde-c0bf-dd4f32de3b37"
      },
      "execution_count": 79,
      "outputs": [
        {
          "output_type": "stream",
          "name": "stdout",
          "text": [
            "{5: 3, 1: 1, 3: 2}\n"
          ]
        }
      ]
    }
  ]
}