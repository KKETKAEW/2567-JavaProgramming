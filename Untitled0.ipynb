{
  "nbformat": 4,
  "nbformat_minor": 0,
  "metadata": {
    "colab": {
      "provenance": [],
      "authorship_tag": "ABX9TyOulgGswuaAaKj8QaWQx+fE",
      "include_colab_link": true
    },
    "kernelspec": {
      "name": "python3",
      "display_name": "Python 3"
    },
    "language_info": {
      "name": "python"
    }
  },
  "cells": [
    {
      "cell_type": "markdown",
      "metadata": {
        "id": "view-in-github",
        "colab_type": "text"
      },
      "source": [
        "<a href=\"https://colab.research.google.com/github/KKETKAEW/2567-JavaProgramming/blob/main/Untitled0.ipynb\" target=\"_parent\"><img src=\"https://colab.research.google.com/assets/colab-badge.svg\" alt=\"Open In Colab\"/></a>"
      ]
    },
    {
      "cell_type": "code",
      "execution_count": null,
      "metadata": {
        "id": "1mvV8hMcOGOE"
      },
      "outputs": [],
      "source": [
        "#sort\n",
        "def my_sort(arr):\n",
        "  for i in range(len(arr)-1):\n",
        "    for j in range(i+1,len(arr)):\n",
        "      if arr[j] < arr[i]:\n",
        "        arr[i],arr[j]=arr[j],arr[i]\n",
        "  return arr"
      ]
    },
    {
      "cell_type": "code",
      "source": [
        "#insertion sort\n",
        "def insertion_sort(arr):\n",
        "  for i in range(1,len(arr)):\n",
        "    for j in range(0,i):\n",
        "      if arr[j]>arr[i]:\n",
        "        arr.insert(arr.pop(i))\n",
        "  return arr"
      ],
      "metadata": {
        "id": "k4x1QJqAVQFs"
      },
      "execution_count": null,
      "outputs": []
    },
    {
      "cell_type": "code",
      "source": [
        "#selection sort\n",
        "def selection_sort(arr):\n",
        "  for i in range(len(arr)):\n",
        "    min=arr(i)\n",
        "    poss=i\n",
        "    for j in range(i,lan(arr)):\n",
        "      if arr[j]<min:\n",
        "        min=arr[j]\n",
        "        poss=j\n",
        "    arr[i],arr[poss]=arr[poss],arr[i]\n",
        "  return arr"
      ],
      "metadata": {
        "id": "AjESapCbYlbY"
      },
      "execution_count": null,
      "outputs": []
    },
    {
      "cell_type": "code",
      "source": [
        "#bubble sort\n",
        "def bubble_sort(arr):\n",
        "  for i in range(len(arr)):\n",
        "    for j in range(len(arr)-1-i):\n",
        "      if arr[j]>arr[j+1]:\n",
        "        arr[j],arr[j+1]=arr[j+1],arr[j]\n",
        "        swapped=True\n",
        "      if swapped != True:\n",
        "        break\n",
        "  return arr"
      ],
      "metadata": {
        "id": "kY8oc38xbhNd"
      },
      "execution_count": null,
      "outputs": []
    },
    {
      "cell_type": "code",
      "source": [
        "#merge sort\n",
        "def merge_sort(arr):\n",
        "  if len(arr)<=1:\n",
        "    return arr\n",
        "  else:\n",
        "    A = merge_sort(arr[:len(arr)//2])\n",
        "    B = merge_sort(arr[len(arr)//2:])\n",
        "    new_arr = []\n",
        "    while len(A)>0 and len(B)>0:\n",
        "      if A[0]<B[0]:\n",
        "        new_arr.append(A.pop(0))\n",
        "      else:\n",
        "        new_arr.append(B.pop(0))\n",
        "    new_arr.extend(A)\n",
        "    new_arr.extend(B)\n",
        "    return new_arr"
      ],
      "metadata": {
        "id": "KBBcQrurcy5i"
      },
      "execution_count": null,
      "outputs": []
    },
    {
      "cell_type": "code",
      "source": [
        "#quict sort\n",
        "def quick_sort(arr):\n",
        "  if len(arr)<=1:\n",
        "    return arr\n",
        "  else:\n",
        "    pivot = arr[0]\n",
        "    left = []\n",
        "    right = []\n",
        "    for i in range(1,len(arr)):\n",
        "      if arr[i]<pivot:\n",
        "        left.append(arr[i])\n",
        "      else:\n",
        "        right.append(arr[i])\n",
        "    left = quick_sort(left)\n",
        "    right = quick_sort(right)\n",
        "    left.append(pivot)\n",
        "    left.extend(right)\n",
        "    return left"
      ],
      "metadata": {
        "id": "QshC4cw2faKR"
      },
      "execution_count": null,
      "outputs": []
    }
  ]
}