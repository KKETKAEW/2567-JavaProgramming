{
  "nbformat": 4,
  "nbformat_minor": 0,
  "metadata": {
    "colab": {
      "provenance": [],
      "authorship_tag": "ABX9TyO118oRlk+QLhxeo8y6HIsi",
      "include_colab_link": true
    },
    "kernelspec": {
      "name": "python3",
      "display_name": "Python 3"
    },
    "language_info": {
      "name": "python"
    }
  },
  "cells": [
    {
      "cell_type": "markdown",
      "metadata": {
        "id": "view-in-github",
        "colab_type": "text"
      },
      "source": [
        "<a href=\"https://colab.research.google.com/github/KKETKAEW/2567-JavaProgramming/blob/main/Untitled3.ipynb\" target=\"_parent\"><img src=\"https://colab.research.google.com/assets/colab-badge.svg\" alt=\"Open In Colab\"/></a>"
      ]
    },
    {
      "cell_type": "code",
      "execution_count": 13,
      "metadata": {
        "colab": {
          "base_uri": "https://localhost:8080/"
        },
        "id": "sr4-6jmC5EBP",
        "outputId": "2a21bdea-455b-4811-8388-3988b2bb9c69"
      },
      "outputs": [
        {
          "output_type": "stream",
          "name": "stdout",
          "text": [
            "Enter a sentence:Thai-Nichi\n",
            "Process sentence is: ihciN-iahT\n"
          ]
        }
      ],
      "source": [
        "sentence=input(\"Enter a sentence:\")\n",
        "print(\"Process sentence is:\",sentence[::-1])"
      ]
    },
    {
      "cell_type": "code",
      "source": [
        "message=input(\"Input sentence:\")\n",
        "message.count(\" \")+1"
      ],
      "metadata": {
        "colab": {
          "base_uri": "https://localhost:8080/"
        },
        "id": "8-vwuzqQCMKA",
        "outputId": "054de95a-d644-455a-ea86-ea7b06afce4e"
      },
      "execution_count": 18,
      "outputs": [
        {
          "name": "stdout",
          "output_type": "stream",
          "text": [
            "Input sentence:i luv you\n"
          ]
        },
        {
          "output_type": "execute_result",
          "data": {
            "text/plain": [
              "3"
            ]
          },
          "metadata": {},
          "execution_count": 18
        }
      ]
    },
    {
      "cell_type": "code",
      "source": [
        "message=input(\"Input sentence:\")\n",
        "len(message.split())"
      ],
      "metadata": {
        "colab": {
          "base_uri": "https://localhost:8080/"
        },
        "id": "4cbPR63yDfOA",
        "outputId": "b6d96eb7-1e8d-4477-e594-0d9e84c3ac65"
      },
      "execution_count": 20,
      "outputs": [
        {
          "name": "stdout",
          "output_type": "stream",
          "text": [
            "Input sentence:hello word\n"
          ]
        },
        {
          "output_type": "execute_result",
          "data": {
            "text/plain": [
              "2"
            ]
          },
          "metadata": {},
          "execution_count": 20
        }
      ]
    },
    {
      "cell_type": "code",
      "source": [
        "n = int(input(\"Input number : \"))\n",
        "fac = 1\n",
        "for i in range(1,n+1):\n",
        "  fac=fac * i\n",
        "print(fac)"
      ],
      "metadata": {
        "colab": {
          "base_uri": "https://localhost:8080/"
        },
        "id": "vXWr3zEWIydr",
        "outputId": "51006bef-4e73-4d1f-a8a7-b0151204539f"
      },
      "execution_count": 38,
      "outputs": [
        {
          "output_type": "stream",
          "name": "stdout",
          "text": [
            "Input number : 6\n",
            "720\n"
          ]
        }
      ]
    },
    {
      "cell_type": "code",
      "source": [
        "n = int(input(\"Input number : \"))\n",
        "prime= True\n",
        "for i in range(2,n):\n",
        "  if n%1==0:\n",
        "    prime = False\n",
        "print(prime)"
      ],
      "metadata": {
        "colab": {
          "base_uri": "https://localhost:8080/"
        },
        "id": "LYCbXlQRKgNw",
        "outputId": "f4b777e1-3acb-48bf-f98e-0e0d414c29ec"
      },
      "execution_count": 51,
      "outputs": [
        {
          "output_type": "stream",
          "name": "stdout",
          "text": [
            "Input number : 6\n",
            "False\n"
          ]
        }
      ]
    },
    {
      "cell_type": "code",
      "source": [
        "num = int(input(\"Input number : \"))\n",
        "if num <= 1:\n",
        "    print(False)\n",
        "else:\n",
        "    prime = True\n",
        "    for i in range(2, num):\n",
        "        if num % i == 0:\n",
        "            prime = False\n",
        "            break\n",
        "    print(prime)"
      ],
      "metadata": {
        "colab": {
          "base_uri": "https://localhost:8080/"
        },
        "id": "_tcpwMQGNs__",
        "outputId": "b01672c3-a7e7-4833-d5f7-095412a691e3"
      },
      "execution_count": 54,
      "outputs": [
        {
          "output_type": "stream",
          "name": "stdout",
          "text": [
            "Input number : 3\n",
            "True\n"
          ]
        }
      ]
    }
  ]
}